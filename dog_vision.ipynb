{
  "nbformat": 4,
  "nbformat_minor": 0,
  "metadata": {
    "colab": {
      "provenance": []
    },
    "kernelspec": {
      "name": "python3",
      "display_name": "Python 3"
    },
    "language_info": {
      "name": "python"
    },
    "gpuClass": "standard"
  },
  "cells": [
    {
      "cell_type": "markdown",
      "source": [],
      "metadata": {
        "id": "hurPTNuuqUDb"
      }
    },
    {
      "cell_type": "markdown",
      "source": [
        "# 🐶 Multi class Dog Breed Classification\n",
        "\n",
        "This notebook bulids an end-to-end multi-class image classifier using TensorFlow 2.0 and TensorFlow Hub.\n",
        "\n",
        "## 1. Problem\n",
        "\n",
        "Identifying the breed of a dog given image of a dog.\n",
        "\n",
        "## 2. Data \n",
        "\n",
        "The data we're using is from kaggle.com\n",
        "\n",
        "## 3. Evaluation\n",
        "\n",
        "The evaluation is a file with prediction probabilities for each dog breed of each test image.\n",
        "\n",
        "## 4. Features\n",
        "\n",
        "Some information about the data:\n",
        "* We're dealing with images (unstructured data) so it's probably best we use deep learning/transfer learning.\n",
        "* There are 120 breeds of dogs,hence it has 120 different classes and it is a multiclass classification.\n",
        "* There are around 10,000+ images for both training(these images have labels) and test data set(these images have no labels,because we will want to predict them)."
      ],
      "metadata": {
        "id": "FytkqjmfqWvr"
      }
    },
    {
      "cell_type": "markdown",
      "source": [
        "## Getting our workspace ready\n",
        "* Import TensorFlow 2.x\n",
        "* Import TendorFlow Hub\n",
        "* Make sure we're using a GPU"
      ],
      "metadata": {
        "id": "BtdS_XqNzcOS"
      }
    },
    {
      "cell_type": "code",
      "source": [
        "# Import TensorFlow and Tensor hub\n",
        "import tensorflow as tf\n",
        "import tensorflow_hub as hub\n",
        "\n",
        "# Check for GPU availability\n",
        "print(\"GPU\",\"Available\" if tf.config.list_physical_devices(\"GPU\") else \"Not Available\") "
      ],
      "metadata": {
        "colab": {
          "base_uri": "https://localhost:8080/"
        },
        "id": "84iMQshLy-FX",
        "outputId": "c035b1b9-77c0-491b-ca32-cb5b1c0106b4"
      },
      "execution_count": 1,
      "outputs": [
        {
          "output_type": "stream",
          "name": "stdout",
          "text": [
            "GPU Not Available\n"
          ]
        }
      ]
    },
    {
      "cell_type": "markdown",
      "source": [
        "## Getting data ready\n",
        "With all machine learning models, our data has to be in numerical format so, turning images into Tensors."
      ],
      "metadata": {
        "id": "b5WWiuBffRiC"
      }
    },
    {
      "cell_type": "code",
      "source": [
        "# Checkout the labels of our data\n",
        "import pandas as pd\n",
        "import numpy as np\n",
        "import matplotlib.pyplot as plt\n",
        "from matplotlib.pyplot import imread\n",
        "labels_csv = pd.read_csv(\"drive/MyDrive/Dog vision/dog-breed-identification/labels.csv\")\n",
        "print(labels_csv.describe())"
      ],
      "metadata": {
        "colab": {
          "base_uri": "https://localhost:8080/"
        },
        "id": "1421THarghJ7",
        "outputId": "1c02e7f4-069b-438d-d34f-ef0081b05448"
      },
      "execution_count": 2,
      "outputs": [
        {
          "output_type": "stream",
          "name": "stdout",
          "text": [
            "                                      id               breed\n",
            "count                              10222               10222\n",
            "unique                             10222                 120\n",
            "top     000bec180eb18c7604dcecc8fe0dba07  scottish_deerhound\n",
            "freq                                   1                 126\n"
          ]
        }
      ]
    },
    {
      "cell_type": "code",
      "source": [
        "labels_csv.head()"
      ],
      "metadata": {
        "colab": {
          "base_uri": "https://localhost:8080/",
          "height": 206
        },
        "id": "O3d7Ym9eiPwJ",
        "outputId": "0d91f67a-07b1-4623-ef27-4b75f135c776"
      },
      "execution_count": 3,
      "outputs": [
        {
          "output_type": "execute_result",
          "data": {
            "text/plain": [
              "                                 id             breed\n",
              "0  000bec180eb18c7604dcecc8fe0dba07       boston_bull\n",
              "1  001513dfcb2ffafc82cccf4d8bbaba97             dingo\n",
              "2  001cdf01b096e06d78e9e5112d419397          pekinese\n",
              "3  00214f311d5d2247d5dfe4fe24b2303d          bluetick\n",
              "4  0021f9ceb3235effd7fcde7f7538ed62  golden_retriever"
            ],
            "text/html": [
              "\n",
              "  <div id=\"df-7b744eb0-6a2e-4b78-ae1d-2631fbabd9f4\">\n",
              "    <div class=\"colab-df-container\">\n",
              "      <div>\n",
              "<style scoped>\n",
              "    .dataframe tbody tr th:only-of-type {\n",
              "        vertical-align: middle;\n",
              "    }\n",
              "\n",
              "    .dataframe tbody tr th {\n",
              "        vertical-align: top;\n",
              "    }\n",
              "\n",
              "    .dataframe thead th {\n",
              "        text-align: right;\n",
              "    }\n",
              "</style>\n",
              "<table border=\"1\" class=\"dataframe\">\n",
              "  <thead>\n",
              "    <tr style=\"text-align: right;\">\n",
              "      <th></th>\n",
              "      <th>id</th>\n",
              "      <th>breed</th>\n",
              "    </tr>\n",
              "  </thead>\n",
              "  <tbody>\n",
              "    <tr>\n",
              "      <th>0</th>\n",
              "      <td>000bec180eb18c7604dcecc8fe0dba07</td>\n",
              "      <td>boston_bull</td>\n",
              "    </tr>\n",
              "    <tr>\n",
              "      <th>1</th>\n",
              "      <td>001513dfcb2ffafc82cccf4d8bbaba97</td>\n",
              "      <td>dingo</td>\n",
              "    </tr>\n",
              "    <tr>\n",
              "      <th>2</th>\n",
              "      <td>001cdf01b096e06d78e9e5112d419397</td>\n",
              "      <td>pekinese</td>\n",
              "    </tr>\n",
              "    <tr>\n",
              "      <th>3</th>\n",
              "      <td>00214f311d5d2247d5dfe4fe24b2303d</td>\n",
              "      <td>bluetick</td>\n",
              "    </tr>\n",
              "    <tr>\n",
              "      <th>4</th>\n",
              "      <td>0021f9ceb3235effd7fcde7f7538ed62</td>\n",
              "      <td>golden_retriever</td>\n",
              "    </tr>\n",
              "  </tbody>\n",
              "</table>\n",
              "</div>\n",
              "      <button class=\"colab-df-convert\" onclick=\"convertToInteractive('df-7b744eb0-6a2e-4b78-ae1d-2631fbabd9f4')\"\n",
              "              title=\"Convert this dataframe to an interactive table.\"\n",
              "              style=\"display:none;\">\n",
              "        \n",
              "  <svg xmlns=\"http://www.w3.org/2000/svg\" height=\"24px\"viewBox=\"0 0 24 24\"\n",
              "       width=\"24px\">\n",
              "    <path d=\"M0 0h24v24H0V0z\" fill=\"none\"/>\n",
              "    <path d=\"M18.56 5.44l.94 2.06.94-2.06 2.06-.94-2.06-.94-.94-2.06-.94 2.06-2.06.94zm-11 1L8.5 8.5l.94-2.06 2.06-.94-2.06-.94L8.5 2.5l-.94 2.06-2.06.94zm10 10l.94 2.06.94-2.06 2.06-.94-2.06-.94-.94-2.06-.94 2.06-2.06.94z\"/><path d=\"M17.41 7.96l-1.37-1.37c-.4-.4-.92-.59-1.43-.59-.52 0-1.04.2-1.43.59L10.3 9.45l-7.72 7.72c-.78.78-.78 2.05 0 2.83L4 21.41c.39.39.9.59 1.41.59.51 0 1.02-.2 1.41-.59l7.78-7.78 2.81-2.81c.8-.78.8-2.07 0-2.86zM5.41 20L4 18.59l7.72-7.72 1.47 1.35L5.41 20z\"/>\n",
              "  </svg>\n",
              "      </button>\n",
              "      \n",
              "  <style>\n",
              "    .colab-df-container {\n",
              "      display:flex;\n",
              "      flex-wrap:wrap;\n",
              "      gap: 12px;\n",
              "    }\n",
              "\n",
              "    .colab-df-convert {\n",
              "      background-color: #E8F0FE;\n",
              "      border: none;\n",
              "      border-radius: 50%;\n",
              "      cursor: pointer;\n",
              "      display: none;\n",
              "      fill: #1967D2;\n",
              "      height: 32px;\n",
              "      padding: 0 0 0 0;\n",
              "      width: 32px;\n",
              "    }\n",
              "\n",
              "    .colab-df-convert:hover {\n",
              "      background-color: #E2EBFA;\n",
              "      box-shadow: 0px 1px 2px rgba(60, 64, 67, 0.3), 0px 1px 3px 1px rgba(60, 64, 67, 0.15);\n",
              "      fill: #174EA6;\n",
              "    }\n",
              "\n",
              "    [theme=dark] .colab-df-convert {\n",
              "      background-color: #3B4455;\n",
              "      fill: #D2E3FC;\n",
              "    }\n",
              "\n",
              "    [theme=dark] .colab-df-convert:hover {\n",
              "      background-color: #434B5C;\n",
              "      box-shadow: 0px 1px 3px 1px rgba(0, 0, 0, 0.15);\n",
              "      filter: drop-shadow(0px 1px 2px rgba(0, 0, 0, 0.3));\n",
              "      fill: #FFFFFF;\n",
              "    }\n",
              "  </style>\n",
              "\n",
              "      <script>\n",
              "        const buttonEl =\n",
              "          document.querySelector('#df-7b744eb0-6a2e-4b78-ae1d-2631fbabd9f4 button.colab-df-convert');\n",
              "        buttonEl.style.display =\n",
              "          google.colab.kernel.accessAllowed ? 'block' : 'none';\n",
              "\n",
              "        async function convertToInteractive(key) {\n",
              "          const element = document.querySelector('#df-7b744eb0-6a2e-4b78-ae1d-2631fbabd9f4');\n",
              "          const dataTable =\n",
              "            await google.colab.kernel.invokeFunction('convertToInteractive',\n",
              "                                                     [key], {});\n",
              "          if (!dataTable) return;\n",
              "\n",
              "          const docLinkHtml = 'Like what you see? Visit the ' +\n",
              "            '<a target=\"_blank\" href=https://colab.research.google.com/notebooks/data_table.ipynb>data table notebook</a>'\n",
              "            + ' to learn more about interactive tables.';\n",
              "          element.innerHTML = '';\n",
              "          dataTable['output_type'] = 'display_data';\n",
              "          await google.colab.output.renderOutput(dataTable, element);\n",
              "          const docLink = document.createElement('div');\n",
              "          docLink.innerHTML = docLinkHtml;\n",
              "          element.appendChild(docLink);\n",
              "        }\n",
              "      </script>\n",
              "    </div>\n",
              "  </div>\n",
              "  "
            ]
          },
          "metadata": {},
          "execution_count": 3
        }
      ]
    },
    {
      "cell_type": "code",
      "source": [
        "labels_csv[\"breed\"].value_counts()"
      ],
      "metadata": {
        "colab": {
          "base_uri": "https://localhost:8080/"
        },
        "id": "CkjiSV52iyll",
        "outputId": "2d2c49d8-8b15-4829-9f3b-45f09b39c481"
      },
      "execution_count": 4,
      "outputs": [
        {
          "output_type": "execute_result",
          "data": {
            "text/plain": [
              "scottish_deerhound      126\n",
              "maltese_dog             117\n",
              "afghan_hound            116\n",
              "entlebucher             115\n",
              "bernese_mountain_dog    114\n",
              "                       ... \n",
              "golden_retriever         67\n",
              "brabancon_griffon        67\n",
              "komondor                 67\n",
              "eskimo_dog               66\n",
              "briard                   66\n",
              "Name: breed, Length: 120, dtype: int64"
            ]
          },
          "metadata": {},
          "execution_count": 4
        }
      ]
    },
    {
      "cell_type": "code",
      "source": [
        "# How many are there of each breed?\n",
        "labels_csv[\"breed\"].value_counts().plot.bar(figsize=(20,10));"
      ],
      "metadata": {
        "colab": {
          "base_uri": "https://localhost:8080/",
          "height": 621
        },
        "id": "8O32UI1IlZOD",
        "outputId": "e8e3a48b-9261-41fd-ab93-ca14e3487970"
      },
      "execution_count": 5,
      "outputs": [
        {
          "output_type": "display_data",
          "data": {
            "text/plain": [
              "<Figure size 1440x720 with 1 Axes>"
            ],
            "image/png": "[encoded data removed]"
          },
          "metadata": {
            "needs_background": "light"
          }
        }
      ]
    },
    {
      "cell_type": "code",
      "source": [
        "# Images per class\n",
        "labels_csv[\"breed\"].value_counts().median()"
      ],
      "metadata": {
        "colab": {
          "base_uri": "https://localhost:8080/"
        },
        "id": "gl2RBmikmVJp",
        "outputId": "8205775c-c6dc-4e8b-948d-1628578ff75a"
      },
      "execution_count": 6,
      "outputs": [
        {
          "output_type": "execute_result",
          "data": {
            "text/plain": [
              "82.0"
            ]
          },
          "metadata": {},
          "execution_count": 6
        }
      ]
    },
    {
      "cell_type": "markdown",
      "source": [
        "### Getting images and their labels\n",
        "Let's get a list of all our image file path names."
      ],
      "metadata": {
        "id": "HNzZ0MrCmkJS"
      }
    },
    {
      "cell_type": "code",
      "source": [
        "# Create pathnames from image ID's\n",
        "filenames = [\"drive/MyDrive/Dog vision/dog-breed-identification/train/\" + fname + \".jpg\" for fname in labels_csv[\"id\"]]\n",
        "\n",
        "# check the first 10\n",
        "filenames[:10]"
      ],
      "metadata": {
        "colab": {
          "base_uri": "https://localhost:8080/"
        },
        "id": "t0wxvhs0o1h8",
        "outputId": "8615e1c9-f2dd-4207-a615-18961c9d3d16"
      },
      "execution_count": 7,
      "outputs": [
        {
          "output_type": "execute_result",
          "data": {
            "text/plain": [
              "['drive/MyDrive/Dog vision/dog-breed-identification/train/000bec180eb18c7604dcecc8fe0dba07.jpg',\n",
              " 'drive/MyDrive/Dog vision/dog-breed-identification/train/001513dfcb2ffafc82cccf4d8bbaba97.jpg',\n",
              " 'drive/MyDrive/Dog vision/dog-breed-identification/train/001cdf01b096e06d78e9e5112d419397.jpg',\n",
              " 'drive/MyDrive/Dog vision/dog-breed-identification/train/00214f311d5d2247d5dfe4fe24b2303d.jpg',\n",
              " 'drive/MyDrive/Dog vision/dog-breed-identification/train/0021f9ceb3235effd7fcde7f7538ed62.jpg',\n",
              " 'drive/MyDrive/Dog vision/dog-breed-identification/train/002211c81b498ef88e1b40b9abf84e1d.jpg',\n",
              " 'drive/MyDrive/Dog vision/dog-breed-identification/train/00290d3e1fdd27226ba27a8ce248ce85.jpg',\n",
              " 'drive/MyDrive/Dog vision/dog-breed-identification/train/002a283a315af96eaea0e28e7163b21b.jpg',\n",
              " 'drive/MyDrive/Dog vision/dog-breed-identification/train/003df8b8a8b05244b1d920bb6cf451f9.jpg',\n",
              " 'drive/MyDrive/Dog vision/dog-breed-identification/train/0042188c895a2f14ef64a918ed9c7b64.jpg']"
            ]
          },
          "metadata": {},
          "execution_count": 7
        }
      ]
    },
    {
      "cell_type": "code",
      "source": [
        "from IPython.display import Image\n",
        "Image(filenames[4])"
      ],
      "metadata": {
        "colab": {
          "base_uri": "https://localhost:8080/",
          "height": 517
        },
        "id": "vkspRJvbuSjp",
        "outputId": "22d290e1-1be0-4faa-b555-e3a0bd24fbef"
      },
      "execution_count": 8,
      "outputs": [
        {
          "output_type": "execute_result",
          "data": {
            "image/jpeg": "[encoded data removed]",
            "text/plain": [
              "<IPython.core.display.Image object>"
            ]
          },
          "metadata": {},
          "execution_count": 8
        }
      ]
    },
    {
      "cell_type": "code",
      "source": [
        "labels_csv[\"breed\"][4]"
      ],
      "metadata": {
        "colab": {
          "base_uri": "https://localhost:8080/",
          "height": 35
        },
        "id": "8MALVaXeudYK",
        "outputId": "47d0628f-1a8e-4707-b9a9-f6fe35ebed49"
      },
      "execution_count": 9,
      "outputs": [
        {
          "output_type": "execute_result",
          "data": {
            "text/plain": [
              "'golden_retriever'"
            ],
            "application/vnd.google.colaboratory.intrinsic+json": {
              "type": "string"
            }
          },
          "metadata": {},
          "execution_count": 9
        }
      ]
    },
    {
      "cell_type": "code",
      "source": [
        "# Check whether no. of filenames matches no. of actual image files\n",
        "import os\n",
        "len(os.listdir(\"drive/MyDrive/Dog vision/dog-breed-identification/train/\")) == len(filenames)"
      ],
      "metadata": {
        "colab": {
          "base_uri": "https://localhost:8080/"
        },
        "id": "B9KWWrj8o81e",
        "outputId": "89bff9db-d9fa-4ade-94f6-d784ab4c1f8f"
      },
      "execution_count": 10,
      "outputs": [
        {
          "output_type": "execute_result",
          "data": {
            "text/plain": [
              "True"
            ]
          },
          "metadata": {},
          "execution_count": 10
        }
      ]
    },
    {
      "cell_type": "markdown",
      "source": [
        "Since we've now got our training image filepaths in a list,let's prepare our labels."
      ],
      "metadata": {
        "id": "VIa7wLzOtr5j"
      }
    },
    {
      "cell_type": "code",
      "source": [
        "labels = labels_csv[\"breed\"]\n",
        "labels = np.array(labels)\n",
        "labels"
      ],
      "metadata": {
        "colab": {
          "base_uri": "https://localhost:8080/"
        },
        "id": "OV_hopg7v7eG",
        "outputId": "c4c8f353-654f-40b0-9593-fdfe0ff14852"
      },
      "execution_count": 11,
      "outputs": [
        {
          "output_type": "execute_result",
          "data": {
            "text/plain": [
              "array(['boston_bull', 'dingo', 'pekinese', ..., 'airedale',\n",
              "       'miniature_pinscher', 'chesapeake_bay_retriever'], dtype=object)"
            ]
          },
          "metadata": {},
          "execution_count": 11
        }
      ]
    },
    {
      "cell_type": "code",
      "source": [
        "len(labels)"
      ],
      "metadata": {
        "colab": {
          "base_uri": "https://localhost:8080/"
        },
        "id": "nKoh8qocwg2i",
        "outputId": "b5daadc5-a8f0-43f5-eaae-85341bbb2e5b"
      },
      "execution_count": 12,
      "outputs": [
        {
          "output_type": "execute_result",
          "data": {
            "text/plain": [
              "10222"
            ]
          },
          "metadata": {},
          "execution_count": 12
        }
      ]
    },
    {
      "cell_type": "code",
      "source": [
        "# Check whether no. of labels matches the no. of filenames\n",
        "len(labels) == len(filenames)"
      ],
      "metadata": {
        "colab": {
          "base_uri": "https://localhost:8080/"
        },
        "id": "WYGG3A0tw4eU",
        "outputId": "a80395e8-cf05-4933-d44d-173e36538dae"
      },
      "execution_count": 13,
      "outputs": [
        {
          "output_type": "execute_result",
          "data": {
            "text/plain": [
              "True"
            ]
          },
          "metadata": {},
          "execution_count": 13
        }
      ]
    },
    {
      "cell_type": "code",
      "source": [
        "# Find the unique label values\n",
        "unique_breeds = np.unique(labels)\n",
        "unique_breeds"
      ],
      "metadata": {
        "colab": {
          "base_uri": "https://localhost:8080/"
        },
        "id": "j_Mr2UzGw-VO",
        "outputId": "065bb3c7-1e6c-46e8-eaea-12cedb1f5ffb"
      },
      "execution_count": 14,
      "outputs": [
        {
          "output_type": "execute_result",
          "data": {
            "text/plain": [
              "array(['affenpinscher', 'afghan_hound', 'african_hunting_dog', 'airedale',\n",
              "       'american_staffordshire_terrier', 'appenzeller',\n",
              "       'australian_terrier', 'basenji', 'basset', 'beagle',\n",
              "       'bedlington_terrier', 'bernese_mountain_dog',\n",
              "       'black-and-tan_coonhound', 'blenheim_spaniel', 'bloodhound',\n",
              "       'bluetick', 'border_collie', 'border_terrier', 'borzoi',\n",
              "       'boston_bull', 'bouvier_des_flandres', 'boxer',\n",
              "       'brabancon_griffon', 'briard', 'brittany_spaniel', 'bull_mastiff',\n",
              "       'cairn', 'cardigan', 'chesapeake_bay_retriever', 'chihuahua',\n",
              "       'chow', 'clumber', 'cocker_spaniel', 'collie',\n",
              "       'curly-coated_retriever', 'dandie_dinmont', 'dhole', 'dingo',\n",
              "       'doberman', 'english_foxhound', 'english_setter',\n",
              "       'english_springer', 'entlebucher', 'eskimo_dog',\n",
              "       'flat-coated_retriever', 'french_bulldog', 'german_shepherd',\n",
              "       'german_short-haired_pointer', 'giant_schnauzer',\n",
              "       'golden_retriever', 'gordon_setter', 'great_dane',\n",
              "       'great_pyrenees', 'greater_swiss_mountain_dog', 'groenendael',\n",
              "       'ibizan_hound', 'irish_setter', 'irish_terrier',\n",
              "       'irish_water_spaniel', 'irish_wolfhound', 'italian_greyhound',\n",
              "       'japanese_spaniel', 'keeshond', 'kelpie', 'kerry_blue_terrier',\n",
              "       'komondor', 'kuvasz', 'labrador_retriever', 'lakeland_terrier',\n",
              "       'leonberg', 'lhasa', 'malamute', 'malinois', 'maltese_dog',\n",
              "       'mexican_hairless', 'miniature_pinscher', 'miniature_poodle',\n",
              "       'miniature_schnauzer', 'newfoundland', 'norfolk_terrier',\n",
              "       'norwegian_elkhound', 'norwich_terrier', 'old_english_sheepdog',\n",
              "       'otterhound', 'papillon', 'pekinese', 'pembroke', 'pomeranian',\n",
              "       'pug', 'redbone', 'rhodesian_ridgeback', 'rottweiler',\n",
              "       'saint_bernard', 'saluki', 'samoyed', 'schipperke',\n",
              "       'scotch_terrier', 'scottish_deerhound', 'sealyham_terrier',\n",
              "       'shetland_sheepdog', 'shih-tzu', 'siberian_husky', 'silky_terrier',\n",
              "       'soft-coated_wheaten_terrier', 'staffordshire_bullterrier',\n",
              "       'standard_poodle', 'standard_schnauzer', 'sussex_spaniel',\n",
              "       'tibetan_mastiff', 'tibetan_terrier', 'toy_poodle', 'toy_terrier',\n",
              "       'vizsla', 'walker_hound', 'weimaraner', 'welsh_springer_spaniel',\n",
              "       'west_highland_white_terrier', 'whippet',\n",
              "       'wire-haired_fox_terrier', 'yorkshire_terrier'], dtype=object)"
            ]
          },
          "metadata": {},
          "execution_count": 14
        }
      ]
    },
    {
      "cell_type": "code",
      "source": [
        "len(unique_breeds)"
      ],
      "metadata": {
        "colab": {
          "base_uri": "https://localhost:8080/"
        },
        "id": "IRM2FUCsx_wG",
        "outputId": "be3aa98c-235b-4439-a8fc-c6054accf0f4"
      },
      "execution_count": 15,
      "outputs": [
        {
          "output_type": "execute_result",
          "data": {
            "text/plain": [
              "120"
            ]
          },
          "metadata": {},
          "execution_count": 15
        }
      ]
    },
    {
      "cell_type": "code",
      "source": [
        "# Turn every label into a boolean array\n",
        "boolean_labels = [label == unique_breeds for label in labels]\n",
        "boolean_labels[:1]"
      ],
      "metadata": {
        "colab": {
          "base_uri": "https://localhost:8080/"
        },
        "id": "AsFFL9JCyMAw",
        "outputId": "8e6b4c35-8d38-4ecc-9d4a-5ca9163b2f0e"
      },
      "execution_count": 16,
      "outputs": [
        {
          "output_type": "execute_result",
          "data": {
            "text/plain": [
              "[array([False, False, False, False, False, False, False, False, False,\n",
              "        False, False, False, False, False, False, False, False, False,\n",
              "        False,  True, False, False, False, False, False, False, False,\n",
              "        False, False, False, False, False, False, False, False, False,\n",
              "        False, False, False, False, False, False, False, False, False,\n",
              "        False, False, False, False, False, False, False, False, False,\n",
              "        False, False, False, False, False, False, False, False, False,\n",
              "        False, False, False, False, False, False, False, False, False,\n",
              "        False, False, False, False, False, False, False, False, False,\n",
              "        False, False, False, False, False, False, False, False, False,\n",
              "        False, False, False, False, False, False, False, False, False,\n",
              "        False, False, False, False, False, False, False, False, False,\n",
              "        False, False, False, False, False, False, False, False, False,\n",
              "        False, False, False])]"
            ]
          },
          "metadata": {},
          "execution_count": 16
        }
      ]
    },
    {
      "cell_type": "code",
      "source": [
        "# Eg: Turning boolean array into integers\n",
        "print(labels[0]) # org label\n",
        "print(boolean_labels[0].astype(int)) # there will be a 1 where the sample label occurs"
      ],
      "metadata": {
        "colab": {
          "base_uri": "https://localhost:8080/"
        },
        "id": "Z0C-Z02UzVUy",
        "outputId": "07e36e29-2efb-41f2-e9b7-8f0daa94fa91"
      },
      "execution_count": 17,
      "outputs": [
        {
          "output_type": "stream",
          "name": "stdout",
          "text": [
            "boston_bull\n",
            "[0 0 0 0 0 0 0 0 0 0 0 0 0 0 0 0 0 0 0 1 0 0 0 0 0 0 0 0 0 0 0 0 0 0 0 0 0\n",
            " 0 0 0 0 0 0 0 0 0 0 0 0 0 0 0 0 0 0 0 0 0 0 0 0 0 0 0 0 0 0 0 0 0 0 0 0 0\n",
            " 0 0 0 0 0 0 0 0 0 0 0 0 0 0 0 0 0 0 0 0 0 0 0 0 0 0 0 0 0 0 0 0 0 0 0 0 0\n",
            " 0 0 0 0 0 0 0 0 0]\n"
          ]
        }
      ]
    },
    {
      "cell_type": "markdown",
      "source": [
        "### Creating our own validation set"
      ],
      "metadata": {
        "id": "0E8uNASO3OWY"
      }
    },
    {
      "cell_type": "markdown",
      "source": [
        "We' re going to start off with 1000 samples and increase as needed, because practicing on 10k samples would take alot of time."
      ],
      "metadata": {
        "id": "X0-fCEVW72el"
      }
    },
    {
      "cell_type": "code",
      "source": [
        "# Set the number of images to use for experimenting\n",
        "# In colab parameter is written in capital letters so that it can be adjusted later\n",
        "NUM_IMAGES = 1000 #@param {type:\"slider\", min:1000, max:10000, step:1000}"
      ],
      "metadata": {
        "id": "kh8U2qg09lhT"
      },
      "execution_count": 18,
      "outputs": []
    },
    {
      "cell_type": "code",
      "source": [
        "# Setup x & y variables\n",
        "x = filenames\n",
        "y = boolean_labels\n",
        "# Lets split data into train and validation sets\n",
        "from sklearn.model_selection import train_test_split\n",
        "x_train,x_val,y_train,y_val = train_test_split(x[:NUM_IMAGES],\n",
        "                                               y[:NUM_IMAGES],\n",
        "                                               test_size=0.2,\n",
        "                                               random_state=42)\n",
        "# Checking data is in correct length\n",
        "len(x_train), len(y_train), len(x_val), len(y_val)"
      ],
      "metadata": {
        "colab": {
          "base_uri": "https://localhost:8080/"
        },
        "id": "mXIlQhEP-Zpg",
        "outputId": "ebc2b85a-a24e-4c97-e476-b1e12bd99ff1"
      },
      "execution_count": 19,
      "outputs": [
        {
          "output_type": "execute_result",
          "data": {
            "text/plain": [
              "(800, 800, 200, 200)"
            ]
          },
          "metadata": {},
          "execution_count": 19
        }
      ]
    },
    {
      "cell_type": "markdown",
      "source": [
        "## Preprocessing Images (Turning Images into Tensors)\n",
        "\n",
        "To preprocess our images into Tensors we're going to write a function which does a few things:\n",
        "\n",
        "1. Take an image filepath as input\n",
        "2. Use TensorFlow to read the file and save it to variable, image\n",
        "3. Turn our jpg into Tensors\n",
        "4. Normalize image(convert color channel values from 0-255 to 0-1)\n",
        "5. Resize the image to be a shape of(224,224)\n",
        "6. Return the modified image"
      ],
      "metadata": {
        "id": "H5sxOK5CBn5T"
      }
    },
    {
      "cell_type": "code",
      "source": [
        "# define image size\n",
        "IMG_SIZE = 224\n",
        "# Creating the function\n",
        "def process_image(image_path):\n",
        "  # Read in an image file\n",
        "  image = tf.io.read_file(image_path)\n",
        "  # Turn the jpeg img into numerical tensor with RGB channels\n",
        "  image = tf.image.decode_jpeg(image, channels = 3)\n",
        "  # Convert the color channel values from 0-255 to 0-1 values\n",
        "  image = tf.image.convert_image_dtype(image,tf.float32)\n",
        "  # Resize the image to desired values(244,244)\n",
        "  image = tf.image.resize(image,size=[IMG_SIZE,IMG_SIZE])\n",
        "  return image"
      ],
      "metadata": {
        "id": "S_Q3E6-NC1At"
      },
      "execution_count": 20,
      "outputs": []
    },
    {
      "cell_type": "markdown",
      "source": [
        "# Turning data into batches \n",
        "processing 10k+ images in a single run would create a mess for memory\n",
        "So for that we will take batch size =32, images at a time.\n",
        "In order to use TensorFlow effectively, we need our data in the form of Tensor tuples (image,label).\n"
      ],
      "metadata": {
        "id": "wdMIT-m8HAwn"
      }
    },
    {
      "cell_type": "code",
      "source": [
        "# Create a simple funciton to return a tuple (image,label)\n",
        "def get_image_label(image_path,label):\n",
        "  image = process_image(image_path)\n",
        "  return image, label"
      ],
      "metadata": {
        "id": "GtVrdXxmI2e9"
      },
      "execution_count": 21,
      "outputs": []
    },
    {
      "cell_type": "code",
      "source": [
        "# Demo of the above\n",
        "# constant is used to convert in Tensors\n",
        "(process_image(x[42]),tf.constant(y[42]))"
      ],
      "metadata": {
        "colab": {
          "base_uri": "https://localhost:8080/"
        },
        "id": "BDy-B-bVKImh",
        "outputId": "6474d35c-7548-47c9-e8a9-3419553014ab"
      },
      "execution_count": 22,
      "outputs": [
        {
          "output_type": "execute_result",
          "data": {
            "text/plain": [
              "(<tf.Tensor: shape=(224, 224, 3), dtype=float32, numpy=\n",
              " array([[[0.3264178 , 0.5222886 , 0.3232816 ],\n",
              "         [0.2537167 , 0.44366494, 0.24117759],\n",
              "         [0.25699762, 0.4467087 , 0.23893751],\n",
              "         ...,\n",
              "         [0.29325107, 0.5189916 , 0.3215547 ],\n",
              "         [0.29721776, 0.52466875, 0.33030328],\n",
              "         [0.2948505 , 0.5223015 , 0.33406618]],\n",
              " \n",
              "        [[0.25903144, 0.4537807 , 0.27294815],\n",
              "         [0.24375686, 0.4407019 , 0.2554778 ],\n",
              "         [0.2838985 , 0.47213382, 0.28298813],\n",
              "         ...,\n",
              "         [0.2785345 , 0.5027992 , 0.31004712],\n",
              "         [0.28428748, 0.5108719 , 0.32523635],\n",
              "         [0.28821915, 0.5148036 , 0.32916805]],\n",
              " \n",
              "        [[0.20941195, 0.40692952, 0.25792548],\n",
              "         [0.24045378, 0.43900946, 0.2868911 ],\n",
              "         [0.29001117, 0.47937486, 0.32247734],\n",
              "         ...,\n",
              "         [0.26074055, 0.48414773, 0.30125174],\n",
              "         [0.27101526, 0.49454468, 0.32096273],\n",
              "         [0.27939945, 0.5029289 , 0.32934693]],\n",
              " \n",
              "        ...,\n",
              " \n",
              "        [[0.00634795, 0.03442048, 0.0258106 ],\n",
              "         [0.01408936, 0.04459917, 0.0301715 ],\n",
              "         [0.01385712, 0.04856448, 0.02839671],\n",
              "         ...,\n",
              "         [0.4220516 , 0.39761978, 0.21622123],\n",
              "         [0.47932503, 0.45370543, 0.2696505 ],\n",
              "         [0.48181024, 0.45828083, 0.27004552]],\n",
              " \n",
              "        [[0.00222061, 0.02262166, 0.03176915],\n",
              "         [0.01008397, 0.03669046, 0.02473482],\n",
              "         [0.00608852, 0.03890046, 0.01207283],\n",
              "         ...,\n",
              "         [0.36070833, 0.33803678, 0.16216144],\n",
              "         [0.42499566, 0.3976801 , 0.21701711],\n",
              "         [0.4405433 , 0.4139589 , 0.23183356]],\n",
              " \n",
              "        [[0.05608118, 0.06760313, 0.10401551],\n",
              "         [0.05441153, 0.07435327, 0.05428322],\n",
              "         [0.04734357, 0.07581862, 0.02060969],\n",
              "         ...,\n",
              "         [0.3397557 , 0.3126567 , 0.14725593],\n",
              "         [0.3877246 , 0.3602736 , 0.187147  ],\n",
              "         [0.43942   , 0.41196904, 0.23884243]]], dtype=float32)>,\n",
              " <tf.Tensor: shape=(120,), dtype=bool, numpy=\n",
              " array([False, False, False, False, False, False, False, False, False,\n",
              "        False, False, False, False, False, False, False, False, False,\n",
              "        False, False, False, False, False, False, False, False, False,\n",
              "        False, False, False, False, False, False, False, False, False,\n",
              "         True, False, False, False, False, False, False, False, False,\n",
              "        False, False, False, False, False, False, False, False, False,\n",
              "        False, False, False, False, False, False, False, False, False,\n",
              "        False, False, False, False, False, False, False, False, False,\n",
              "        False, False, False, False, False, False, False, False, False,\n",
              "        False, False, False, False, False, False, False, False, False,\n",
              "        False, False, False, False, False, False, False, False, False,\n",
              "        False, False, False, False, False, False, False, False, False,\n",
              "        False, False, False, False, False, False, False, False, False,\n",
              "        False, False, False])>)"
            ]
          },
          "metadata": {},
          "execution_count": 22
        }
      ]
    },
    {
      "cell_type": "code",
      "source": [
        "BATCH_SIZE = 32\n",
        "\n",
        "# Create a function to turn data into batches\n",
        "def create_data_batches(x,y=None, batch_size=BATCH_SIZE, valid_data = False, test_data = False):\n",
        "  \"\"\"\n",
        "   Creates batches of data out of image (x) and label (y) pairs.\n",
        "   shuffles the data if it's training data but doesn't shuffle if it's \n",
        "   validation data. also accepts test data as input(no labels).\n",
        "  \"\"\"\n",
        "  # If data is a test dataset, we probably don't have labels\n",
        "  if test_data:\n",
        "    print(\"Creating test data batches...\")\n",
        "    data = tf.data.Dataset.from_tensor_slices(tf.constant(x)) # only filepaths (no labels)\n",
        "    data_batch = data.map(process_image).batch(batch_size=BATCH_SIZE)\n",
        "    return data_batch\n",
        "\n",
        "  # If the data is a valid dataset, we don't need to shuffle it\n",
        "  elif valid_data:\n",
        "    print(\"Creating validation data batches...\")\n",
        "    data = tf.data.Dataset.from_tensor_slices((tf.constant(x), # filepaths\n",
        "                                               tf.constant(y))) # labels\n",
        "    data_batch = data.map(get_image_label).batch(batch_size=BATCH_SIZE)\n",
        "    return data_batch\n",
        "\n",
        "  else:\n",
        "    print(\"Creating training data batches...\")\n",
        "    # Turn filepath and label into Tensors\n",
        "    data = tf.data.Dataset.from_tensor_slices((tf.constant(x),\n",
        "                                               tf.constant(y)))\n",
        "    # Shuffling pathnames and labels before mapping, image processor function is faster than shuffling images\n",
        "    data = data.shuffle(buffer_size=len(x))\n",
        "    \n",
        "    # Creates tuples and turns the image path into a preprocessed image\n",
        "    data = data.map(get_image_label)\n",
        "    \n",
        "    # Turn the training data into batches\n",
        "    data_batch = data.batch(batch_size=BATCH_SIZE)  \n",
        "  return data_batch                                    "
      ],
      "metadata": {
        "id": "rwiuk9jiKv0E"
      },
      "execution_count": 23,
      "outputs": []
    },
    {
      "cell_type": "code",
      "source": [
        "# Create training and validation data batches\n",
        "train_data = create_data_batches(x_train,y_train)\n",
        "val_data = create_data_batches(x_val,y_val, valid_data = True)"
      ],
      "metadata": {
        "colab": {
          "base_uri": "https://localhost:8080/"
        },
        "id": "H2fOudjThl2R",
        "outputId": "f2d966f0-ac0c-45a9-afd5-a49cd3d710e0"
      },
      "execution_count": 24,
      "outputs": [
        {
          "output_type": "stream",
          "name": "stdout",
          "text": [
            "Creating training data batches...\n",
            "Creating validation data batches...\n"
          ]
        }
      ]
    },
    {
      "cell_type": "code",
      "source": [
        "# Check the different attributes of our data batches\n",
        "train_data.element_spec,val_data.element_spec"
      ],
      "metadata": {
        "colab": {
          "base_uri": "https://localhost:8080/"
        },
        "id": "wSKMujEviRXe",
        "outputId": "41e8c1dd-1b4a-408a-8a9a-0873637ff50d"
      },
      "execution_count": 25,
      "outputs": [
        {
          "output_type": "execute_result",
          "data": {
            "text/plain": [
              "((TensorSpec(shape=(None, 224, 224, 3), dtype=tf.float32, name=None),\n",
              "  TensorSpec(shape=(None, 120), dtype=tf.bool, name=None)),\n",
              " (TensorSpec(shape=(None, 224, 224, 3), dtype=tf.float32, name=None),\n",
              "  TensorSpec(shape=(None, 120), dtype=tf.bool, name=None)))"
            ]
          },
          "metadata": {},
          "execution_count": 25
        }
      ]
    },
    {
      "cell_type": "markdown",
      "source": [
        "## Building a model using Transfer Learning\n",
        "\n",
        "Before building a mdoel, these things to be defined:\n",
        "* The input shape(image shape)to our model\n",
        "* The output shape(image labels) of our model\n",
        "* The URL of the model we want to use from TensorFlow hub"
      ],
      "metadata": {
        "id": "1uZl5LDWjJVF"
      }
    },
    {
      "cell_type": "code",
      "source": [
        "# Setup input shape to the model\n",
        "INPUT_SHAPE = [None, IMG_SIZE,IMG_SIZE,3] # batch,height,width, colour channels\n",
        "\n",
        "# Setup output shape to the model\n",
        "OUTPUT_SHAPE = len(unique_breeds)\n",
        "\n",
        "# Setup model URL from TensorFlow Hub\n",
        "# MobileNet-v2 is a neural network that is 53 layers deep\n",
        "MODEL_URL = \"https://tfhub.dev/google/imagenet/mobilenet_v2_130_224/classification/4\""
      ],
      "metadata": {
        "id": "XsaCVgLwwrmC"
      },
      "execution_count": 26,
      "outputs": []
    },
    {
      "cell_type": "markdown",
      "source": [
        "After shaping and setting URL,put them in keras deep learning model.\n",
        "tf.keras is TensorFlow's high-level API for building and training deep learning models.\n",
        "Knowing this creating a function which:\n",
        "* Takes the shapes and model\n",
        "* Defines the layers in a Keras model in sequential fashion(do this then this)\n",
        "* compiles the model(says it should be evaluated and improved)\n",
        "* Builds the model\n",
        "* Returns the model"
      ],
      "metadata": {
        "id": "tvCGI-vzfbeH"
      }
    },
    {
      "cell_type": "code",
      "source": [
        "# Creates a function which builds a Keras model\n",
        "\n",
        "def create_model(input_shape=INPUT_SHAPE,output_shape=OUTPUT_SHAPE, model_url=MODEL_URL):\n",
        "  print(\"Building model with: \", MODEL_URL)\n",
        "\n",
        "  # Setup the model layers\n",
        "  model = tf.keras.Sequential([\n",
        "      hub.KerasLayer(MODEL_URL), # Layer 1(input layer)\n",
        "      tf.keras.layers.Dense(units=OUTPUT_SHAPE,\n",
        "                            activation=\"softmax\") # Layer 2 (output layer)\n",
        "  ])\n",
        "\n",
        "  # Compile the model\n",
        "  model.compile(\n",
        "      loss=tf.keras.losses.CategoricalCrossentropy(),\n",
        "      optimizer=tf.keras.optimizers.Adam(),\n",
        "      metrics=[\"accuracy\"]\n",
        "  )\n",
        "  # Build the model\n",
        "  model.build(INPUT_SHAPE)\n",
        "  return model"
      ],
      "metadata": {
        "id": "NljXjweFhEcq"
      },
      "execution_count": 27,
      "outputs": []
    },
    {
      "cell_type": "markdown",
      "source": [
        "By default keras finds all long arrays to 1280patterns so to limit that dense is used with output shape\n",
        "\n",
        "1.If working with binary classification:\n",
        "* Activation: Sigmoid\n",
        "* Loss: Binary Crossentropy\n",
        "2.If working with Multi-class classification \n",
        "* Activation:softmax\n",
        "* Loss: Categorical Crossentropy\n",
        "3.Loss is a measure of how well a model is learning(higher the loss worse the prediction).\n",
        "\n",
        "4.Optimizer lowers the loss,Adam optimizer is one of the best optimizer\n",
        "          \n",
        "5.Metrics judges how well it is peformoning(accuracy)."
      ],
      "metadata": {
        "id": "7lFalZZuq8Jf"
      }
    },
    {
      "cell_type": "code",
      "source": [
        "model = create_model()\n",
        "model.summary()"
      ],
      "metadata": {
        "colab": {
          "base_uri": "https://localhost:8080/"
        },
        "id": "KR4xaU4ek-WY",
        "outputId": "9cf1b650-96f0-45e0-9328-2a87e5e74f78"
      },
      "execution_count": 28,
      "outputs": [
        {
          "output_type": "stream",
          "name": "stdout",
          "text": [
            "Building model with:  https://tfhub.dev/google/imagenet/mobilenet_v2_130_224/classification/4\n",
            "Model: \"sequential\"\n",
            "_________________________________________________________________\n",
            " Layer (type)                Output Shape              Param #   \n",
            "=================================================================\n",
            " keras_layer (KerasLayer)    (None, 1001)              5432713   \n",
            "                                                                 \n",
            " dense (Dense)               (None, 120)               120240    \n",
            "                                                                 \n",
            "=================================================================\n",
            "Total params: 5,552,953\n",
            "Trainable params: 120,240\n",
            "Non-trainable params: 5,432,713\n",
            "_________________________________________________________________\n"
          ]
        }
      ]
    },
    {
      "cell_type": "markdown",
      "source": [
        "## Creating callbacks\n",
        "callbacks are helper functions a model can use during training to do such things as save its progress,check its progress or stop training early if it stops improving.\n",
        "\n",
        "we'll create two callbacks, one for TensorBoars which helps track our model progress and another for early stopping which prevents our model from training for too long.\n",
        "\n",
        "### TensorBoard Callback\n",
        "1. Load the TensorBoard notebook extension\n",
        "2. Create a TensorBoard callback which is able to save logs to a directory and pass it to model's fit() function.\n",
        "3. Visualize model training logs with the %tensorboard magic function."
      ],
      "metadata": {
        "id": "TXi57dgZoD3g"
      }
    },
    {
      "cell_type": "code",
      "source": [
        "# Load TensorBoard notebook extension\n",
        "%load_ext tensorboard"
      ],
      "metadata": {
        "id": "ZAEasQDOHGpc"
      },
      "execution_count": 29,
      "outputs": []
    },
    {
      "cell_type": "code",
      "source": [
        "# Import date time so the logs get tracked whenever we run an experiment\n",
        "import datetime\n",
        "# Create a function to build TensorBoard\n",
        "def create_tensorboard_callback():\n",
        "  # Create a log directory for storing TensorBoard logs\n",
        "  logdir = os.path.join(\"drive/MyDrive/Dog vision/dog-breed-identification/logs\",\n",
        "                        datetime.datetime.now().strftime(\"%Y%m%d-%H%M%S\"))\n",
        "  return tf.keras.callbacks.TensorBoard(logdir)"
      ],
      "metadata": {
        "id": "EHaVofnVJieX"
      },
      "execution_count": 30,
      "outputs": []
    },
    {
      "cell_type": "markdown",
      "source": [
        "### Early stopping callback \n",
        "Early stopping helps model from overfitting by stopping training if a certain evaluation metric stops improving."
      ],
      "metadata": {
        "id": "YOTGGvayLw0h"
      }
    },
    {
      "cell_type": "code",
      "source": [
        "early_stopping = tf.keras.callbacks.EarlyStopping(monitor=\"val_accuracy\",\n",
        "                                                  patience=3)"
      ],
      "metadata": {
        "id": "pAa5SRKsMsrY"
      },
      "execution_count": 31,
      "outputs": []
    }
  ]
}